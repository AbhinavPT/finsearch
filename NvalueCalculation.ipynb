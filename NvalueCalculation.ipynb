{
  "nbformat": 4,
  "nbformat_minor": 0,
  "metadata": {
    "colab": {
      "provenance": []
    },
    "kernelspec": {
      "name": "python3",
      "display_name": "Python 3"
    },
    "language_info": {
      "name": "python"
    }
  },
  "cells": [
    {
      "cell_type": "code",
      "execution_count": 1,
      "metadata": {
        "colab": {
          "base_uri": "https://localhost:8080/"
        },
        "id": "Hf7gVcIL5lTN",
        "outputId": "29a28b0a-cc0a-4f4b-dea1-040e9384523e"
      },
      "outputs": [
        {
          "output_type": "stream",
          "name": "stdout",
          "text": [
            "0.6242643756036955\n"
          ]
        }
      ],
      "source": [
        "from scipy.stats import norm\n",
        "\n",
        "# z-value\n",
        "z = 0.3167\n",
        "\n",
        "# CDF value for the z-value\n",
        "cdf_value = norm.cdf(z)\n",
        "print(cdf_value)\n"
      ]
    },
    {
      "cell_type": "code",
      "source": [
        "from scipy.stats import norm\n",
        "\n",
        "# z-value\n",
        "z = 0.0167\n",
        "\n",
        "# CDF value for the z-value\n",
        "cdf_value = norm.cdf(z)\n",
        "print(cdf_value)"
      ],
      "metadata": {
        "colab": {
          "base_uri": "https://localhost:8080/"
        },
        "id": "Fg7SE6rp6EgL",
        "outputId": "0275649d-bc00-4ae5-9703-025a1ab1e2a8"
      },
      "execution_count": 2,
      "outputs": [
        {
          "output_type": "stream",
          "name": "stdout",
          "text": [
            "0.5066620264191734\n"
          ]
        }
      ]
    },
    {
      "cell_type": "code",
      "source": [],
      "metadata": {
        "id": "bcIyx55v6MB9"
      },
      "execution_count": null,
      "outputs": []
    }
  ]
}